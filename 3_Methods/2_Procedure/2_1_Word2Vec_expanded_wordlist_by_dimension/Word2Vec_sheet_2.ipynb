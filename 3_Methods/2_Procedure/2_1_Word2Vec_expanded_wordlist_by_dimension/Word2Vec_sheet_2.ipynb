{
 "cells": [
  {
   "cell_type": "code",
   "execution_count": null,
   "metadata": {},
   "outputs": [],
   "source": [
    "# 导入读取数据所需要的库\n",
    "import numpy as np\n",
    "import pandas as pd\n",
    "from pandas import read_excel\n",
    "\n",
    "df = read_excel(r'data\\SEV_wordlist.xlsx')"
   ]
  },
  {
   "cell_type": "code",
   "execution_count": 1,
   "metadata": {},
   "outputs": [
    {
     "name": "stdout",
     "output_type": "stream",
     "text": [
      "['App_words', 'SES_words', 'Soc_words', 'Com_words', 'Mor_words']\n"
     ]
    }
   ],
   "source": [
    "# 获取Excel文件中所有表的名称\n",
    "excel_file = pd.ExcelFile(r'data\\SEV_wordlist.xlsx')\n",
    "print(excel_file.sheet_names)  # 显示所有表的名称\n"
   ]
  },
  {
   "cell_type": "code",
   "execution_count": 3,
   "metadata": {},
   "outputs": [],
   "source": [
    "import gensim\n",
    "from gensim import models"
   ]
  },
  {
   "cell_type": "code",
   "execution_count": 4,
   "metadata": {},
   "outputs": [],
   "source": [
    "# 预训练的词向量语料库文件路径\n",
    "tecent_embedding_path = (r'D:\\embedding_zh\\tencent-ailab-embedding-zh-d200-v0.2.0-s\\tencent-ailab-embedding-zh-d200-v0.2.0-s.txt')\n",
    "\n",
    "# 加载词向量文件\n",
    "tencent_embedding = models.KeyedVectors.load_word2vec_format(tecent_embedding_path, binary=False)"
   ]
  },
  {
   "cell_type": "code",
   "execution_count": 6,
   "metadata": {},
   "outputs": [
    {
     "data": {
      "text/html": [
       "<div>\n",
       "<style scoped>\n",
       "    .dataframe tbody tr th:only-of-type {\n",
       "        vertical-align: middle;\n",
       "    }\n",
       "\n",
       "    .dataframe tbody tr th {\n",
       "        vertical-align: top;\n",
       "    }\n",
       "\n",
       "    .dataframe thead th {\n",
       "        text-align: right;\n",
       "    }\n",
       "</style>\n",
       "<table border=\"1\" class=\"dataframe\">\n",
       "  <thead>\n",
       "    <tr style=\"text-align: right;\">\n",
       "      <th></th>\n",
       "      <th>Word</th>\n",
       "      <th>Dimension</th>\n",
       "      <th>SES_Dim_mean</th>\n",
       "      <th>SES_Dim_sd</th>\n",
       "      <th>App_Dim_mean</th>\n",
       "      <th>App_Dim_sd</th>\n",
       "      <th>Soc_Dim_mean</th>\n",
       "      <th>Soc_Dim_sd</th>\n",
       "      <th>Com_Dim_mean</th>\n",
       "      <th>Com_Dim_sd</th>\n",
       "      <th>...</th>\n",
       "      <th>Val_sd</th>\n",
       "      <th>Valence</th>\n",
       "      <th>N_raters</th>\n",
       "      <th>N_App</th>\n",
       "      <th>N_SES</th>\n",
       "      <th>N_Soc</th>\n",
       "      <th>N_Com</th>\n",
       "      <th>N_Mor</th>\n",
       "      <th>N_Non</th>\n",
       "      <th>N_Amb</th>\n",
       "    </tr>\n",
       "  </thead>\n",
       "  <tbody>\n",
       "    <tr>\n",
       "      <th>0</th>\n",
       "      <td>首富</td>\n",
       "      <td>Socioeconomic status</td>\n",
       "      <td>8.268</td>\n",
       "      <td>1.977</td>\n",
       "      <td>2.009569</td>\n",
       "      <td>1.734798</td>\n",
       "      <td>2.688995</td>\n",
       "      <td>2.323360</td>\n",
       "      <td>4.952153</td>\n",
       "      <td>3.195190</td>\n",
       "      <td>...</td>\n",
       "      <td>1.653</td>\n",
       "      <td>Positive</td>\n",
       "      <td>209</td>\n",
       "      <td>3</td>\n",
       "      <td>148</td>\n",
       "      <td>2</td>\n",
       "      <td>9</td>\n",
       "      <td>1</td>\n",
       "      <td>6</td>\n",
       "      <td>40</td>\n",
       "    </tr>\n",
       "    <tr>\n",
       "      <th>1</th>\n",
       "      <td>上流</td>\n",
       "      <td>Socioeconomic status</td>\n",
       "      <td>8.161</td>\n",
       "      <td>1.741</td>\n",
       "      <td>3.654028</td>\n",
       "      <td>2.652711</td>\n",
       "      <td>4.331754</td>\n",
       "      <td>2.907115</td>\n",
       "      <td>4.037915</td>\n",
       "      <td>2.933953</td>\n",
       "      <td>...</td>\n",
       "      <td>1.495</td>\n",
       "      <td>Positive</td>\n",
       "      <td>211</td>\n",
       "      <td>0</td>\n",
       "      <td>144</td>\n",
       "      <td>4</td>\n",
       "      <td>6</td>\n",
       "      <td>0</td>\n",
       "      <td>8</td>\n",
       "      <td>49</td>\n",
       "    </tr>\n",
       "    <tr>\n",
       "      <th>2</th>\n",
       "      <td>富裕</td>\n",
       "      <td>Socioeconomic status</td>\n",
       "      <td>8.090</td>\n",
       "      <td>1.968</td>\n",
       "      <td>2.535545</td>\n",
       "      <td>2.122985</td>\n",
       "      <td>2.507109</td>\n",
       "      <td>2.127752</td>\n",
       "      <td>4.364929</td>\n",
       "      <td>3.014963</td>\n",
       "      <td>...</td>\n",
       "      <td>1.531</td>\n",
       "      <td>Positive</td>\n",
       "      <td>211</td>\n",
       "      <td>2</td>\n",
       "      <td>155</td>\n",
       "      <td>1</td>\n",
       "      <td>11</td>\n",
       "      <td>0</td>\n",
       "      <td>9</td>\n",
       "      <td>33</td>\n",
       "    </tr>\n",
       "    <tr>\n",
       "      <th>3</th>\n",
       "      <td>土豪</td>\n",
       "      <td>Socioeconomic status</td>\n",
       "      <td>8.066</td>\n",
       "      <td>1.683</td>\n",
       "      <td>3.260664</td>\n",
       "      <td>2.448190</td>\n",
       "      <td>2.800948</td>\n",
       "      <td>2.327516</td>\n",
       "      <td>3.829384</td>\n",
       "      <td>2.811420</td>\n",
       "      <td>...</td>\n",
       "      <td>1.441</td>\n",
       "      <td>Positive</td>\n",
       "      <td>211</td>\n",
       "      <td>2</td>\n",
       "      <td>163</td>\n",
       "      <td>2</td>\n",
       "      <td>7</td>\n",
       "      <td>1</td>\n",
       "      <td>4</td>\n",
       "      <td>32</td>\n",
       "    </tr>\n",
       "    <tr>\n",
       "      <th>4</th>\n",
       "      <td>富翁</td>\n",
       "      <td>Socioeconomic status</td>\n",
       "      <td>7.981</td>\n",
       "      <td>2.138</td>\n",
       "      <td>2.590698</td>\n",
       "      <td>2.320149</td>\n",
       "      <td>2.730233</td>\n",
       "      <td>2.453639</td>\n",
       "      <td>3.739535</td>\n",
       "      <td>2.966648</td>\n",
       "      <td>...</td>\n",
       "      <td>1.780</td>\n",
       "      <td>Positive</td>\n",
       "      <td>215</td>\n",
       "      <td>1</td>\n",
       "      <td>154</td>\n",
       "      <td>2</td>\n",
       "      <td>3</td>\n",
       "      <td>0</td>\n",
       "      <td>18</td>\n",
       "      <td>37</td>\n",
       "    </tr>\n",
       "  </tbody>\n",
       "</table>\n",
       "<p>5 rows × 23 columns</p>\n",
       "</div>"
      ],
      "text/plain": [
       "  Word             Dimension  SES_Dim_mean  SES_Dim_sd  App_Dim_mean  \\\n",
       "0   首富  Socioeconomic status         8.268       1.977      2.009569   \n",
       "1   上流  Socioeconomic status         8.161       1.741      3.654028   \n",
       "2   富裕  Socioeconomic status         8.090       1.968      2.535545   \n",
       "3   土豪  Socioeconomic status         8.066       1.683      3.260664   \n",
       "4   富翁  Socioeconomic status         7.981       2.138      2.590698   \n",
       "\n",
       "   App_Dim_sd  Soc_Dim_mean  Soc_Dim_sd  Com_Dim_mean  Com_Dim_sd  ...  \\\n",
       "0    1.734798      2.688995    2.323360      4.952153    3.195190  ...   \n",
       "1    2.652711      4.331754    2.907115      4.037915    2.933953  ...   \n",
       "2    2.122985      2.507109    2.127752      4.364929    3.014963  ...   \n",
       "3    2.448190      2.800948    2.327516      3.829384    2.811420  ...   \n",
       "4    2.320149      2.730233    2.453639      3.739535    2.966648  ...   \n",
       "\n",
       "   Val_sd   Valence  N_raters  N_App N_SES  N_Soc  N_Com  N_Mor  N_Non  N_Amb  \n",
       "0   1.653  Positive       209      3   148      2      9      1      6     40  \n",
       "1   1.495  Positive       211      0   144      4      6      0      8     49  \n",
       "2   1.531  Positive       211      2   155      1     11      0      9     33  \n",
       "3   1.441  Positive       211      2   163      2      7      1      4     32  \n",
       "4   1.780  Positive       215      1   154      2      3      0     18     37  \n",
       "\n",
       "[5 rows x 23 columns]"
      ]
     },
     "execution_count": 6,
     "metadata": {},
     "output_type": "execute_result"
    }
   ],
   "source": [
    "# SES扩展词表\n",
    "\n",
    "df_SES_words = pd.read_excel(r'data\\SEV_wordlist.xlsx', sheet_name=1)  # 表的索引从0开始，1表示第二张表\n",
    "\n",
    "# 查看数据的形状\n",
    "df_SES_words.shape\n",
    "\n",
    "# 预览数据\n",
    "df_SES_words.head()"
   ]
  },
  {
   "cell_type": "code",
   "execution_count": 8,
   "metadata": {},
   "outputs": [
    {
     "data": {
      "text/plain": [
       "0    首富\n",
       "1    上流\n",
       "2    富裕\n",
       "3    土豪\n",
       "4    富翁\n",
       "Name: Word, dtype: object"
      ]
     },
     "execution_count": 8,
     "metadata": {},
     "output_type": "execute_result"
    }
   ],
   "source": [
    "# 求积极词汇的词表\n",
    "df_SES_positive = df_SES_words.loc[df_SES_words['Valence']=='Positive', 'Word']\n",
    "df_SES_positive.head()"
   ]
  },
  {
   "cell_type": "code",
   "execution_count": 9,
   "metadata": {},
   "outputs": [
    {
     "data": {
      "text/plain": [
       "['首富',\n",
       " '上流',\n",
       " '富裕',\n",
       " '土豪',\n",
       " '富翁',\n",
       " '巨富',\n",
       " '显赫',\n",
       " '富豪',\n",
       " '尊贵',\n",
       " '功成名就',\n",
       " '腰缠万贯',\n",
       " '富贵',\n",
       " '富有',\n",
       " '有名',\n",
       " '财富',\n",
       " '富足',\n",
       " '殷富',\n",
       " '高层',\n",
       " '高人一等',\n",
       " '风云人物',\n",
       " '有头有脸',\n",
       " '身价',\n",
       " '华贵',\n",
       " '著名',\n",
       " '权威',\n",
       " '豪气',\n",
       " '阔绰',\n",
       " '阔气',\n",
       " '高贵',\n",
       " '家喻户晓',\n",
       " '农民',\n",
       " '煊赫',\n",
       " '贵气',\n",
       " '体面',\n",
       " '殷实',\n",
       " '教授',\n",
       " '举足轻重',\n",
       " '优厚',\n",
       " '气派',\n",
       " '勤工俭学',\n",
       " '默默无闻']"
      ]
     },
     "execution_count": 9,
     "metadata": {},
     "output_type": "execute_result"
    }
   ],
   "source": [
    "# 格式转化为列表\n",
    "SES_positive_word_list = df_SES_positive.tolist()\n",
    "SES_positive_word_list"
   ]
  },
  {
   "cell_type": "code",
   "execution_count": 11,
   "metadata": {},
   "outputs": [],
   "source": [
    "# 初始化有效种子词列表和相似词列表\n",
    "SES_positive_word_list_effective = []\n",
    "SES_similar_words_list = []\n",
    "\n",
    "# 过滤词向量模型中存在的词并生成相似词\n",
    "for word in SES_positive_word_list:\n",
    "    if word in tencent_embedding:\n",
    "        SES_positive_word_list_effective.append(word)\n",
    "        # 找到与该词最相似的 10 个词\n",
    "        SES_similar_words = tencent_embedding.most_similar(word, topn=10)\n",
    "        # 将相似词加入列表\n",
    "        for similar_word, similarity in SES_similar_words:\n",
    "            SES_similar_words_list.append(similar_word)\n",
    "    else:\n",
    "        print(f\"Skipping {word}...\")"
   ]
  },
  {
   "cell_type": "code",
   "execution_count": 12,
   "metadata": {},
   "outputs": [
    {
     "name": "stdout",
     "output_type": "stream",
     "text": [
      "     Word\n",
      "0    全国首富\n",
      "1    第一首富\n",
      "2    第一富豪\n",
      "3      巨富\n",
      "4    中国首富\n",
      "..    ...\n",
      "405  寂寂无闻\n",
      "406  藉藉无名\n",
      "407  名不经传\n",
      "408  默默耕耘\n",
      "409  曾经默默\n",
      "\n",
      "[410 rows x 1 columns]\n"
     ]
    }
   ],
   "source": [
    "# 将生成的积极相似词先转换为 DataFrame，查看是否生成成功\n",
    "df_SES_similar_words = pd.DataFrame(SES_similar_words_list, columns=['Word'])\n",
    "print(df_SES_similar_words)"
   ]
  },
  {
   "cell_type": "code",
   "execution_count": 14,
   "metadata": {},
   "outputs": [],
   "source": [
    "# 将相似词列表转换为集合再转换回列表，以去掉重复出现的词\n",
    "SES_unique_similar_words_list = list(set(SES_similar_words_list))"
   ]
  },
  {
   "cell_type": "code",
   "execution_count": 15,
   "metadata": {},
   "outputs": [
    {
     "name": "stdout",
     "output_type": "stream",
     "text": [
      "         Word\n",
      "0       富足的生活\n",
      "1        身价飙升\n",
      "2        鲜花着锦\n",
      "3         很气派\n",
      "4         土豪们\n",
      "..        ...\n",
      "358       不体面\n",
      "359      默默无名\n",
      "360  无人不知无人不晓\n",
      "361      人生顶峰\n",
      "362      比别人强\n",
      "\n",
      "[363 rows x 1 columns]\n"
     ]
    }
   ],
   "source": [
    "# 将去重后的结果转换为 DataFrame\n",
    "df_unique_SES_similar_words = pd.DataFrame(SES_unique_similar_words_list, columns=['Word'])\n",
    "print(df_unique_SES_similar_words)"
   ]
  },
  {
   "cell_type": "code",
   "execution_count": 16,
   "metadata": {},
   "outputs": [],
   "source": [
    "# 保存去重后的相似词表到excel文件\n",
    "df_unique_SES_similar_words.to_excel(r'result\\SES_unique_positive_similar_words.xlsx', index=False)"
   ]
  },
  {
   "cell_type": "code",
   "execution_count": 17,
   "metadata": {},
   "outputs": [
    {
     "data": {
      "text/plain": [
       "41       穷\n",
       "42    家徒四壁\n",
       "43    财大气粗\n",
       "44      贫穷\n",
       "45      贫困\n",
       "Name: Word, dtype: object"
      ]
     },
     "execution_count": 17,
     "metadata": {},
     "output_type": "execute_result"
    }
   ],
   "source": [
    "# 消极词汇\n",
    "df_SES_negative = df_SES_words.loc[df_SES_words['Valence']=='Negative', 'Word']\n",
    "df_SES_negative.head()"
   ]
  },
  {
   "cell_type": "code",
   "execution_count": 18,
   "metadata": {},
   "outputs": [
    {
     "data": {
      "text/plain": [
       "['穷',\n",
       " '家徒四壁',\n",
       " '财大气粗',\n",
       " '贫穷',\n",
       " '贫困',\n",
       " '一贫如洗',\n",
       " '贫苦',\n",
       " '底层',\n",
       " '穷困',\n",
       " '穷苦',\n",
       " '低层',\n",
       " '一穷二白',\n",
       " '高不可攀',\n",
       " '下等',\n",
       " '贫寒',\n",
       " '一无所有',\n",
       " '清贫',\n",
       " '潦倒',\n",
       " '低人一等',\n",
       " '低等',\n",
       " '寒酸',\n",
       " '奢糜',\n",
       " '穷酸',\n",
       " '窘困',\n",
       " '无名小卒',\n",
       " '挥金如土',\n",
       " '弱势',\n",
       " '奢华',\n",
       " '困苦',\n",
       " '身败名裂',\n",
       " '官僚',\n",
       " '贫乏',\n",
       " '卑贱',\n",
       " '低贱',\n",
       " '债台高筑',\n",
       " '奢靡',\n",
       " '清寒',\n",
       " '人微言轻',\n",
       " '困窘',\n",
       " '养尊处优',\n",
       " '拮据',\n",
       " '卑微',\n",
       " '寒碜',\n",
       " '落魄',\n",
       " '窘迫',\n",
       " '一文不名',\n",
       " '囊中羞涩',\n",
       " '草根',\n",
       " '奢侈',\n",
       " '低三下四',\n",
       " '穷乏',\n",
       " '低端',\n",
       " '摆阔',\n",
       " '清苦',\n",
       " '微贱',\n",
       " '不名一文',\n",
       " '轻贱',\n",
       " '低档',\n",
       " '微不足道',\n",
       " '倾家荡产',\n",
       " '卑下',\n",
       " '困难',\n",
       " '惟我独尊',\n",
       " '独裁',\n",
       " '无足轻重',\n",
       " '低声下气',\n",
       " '凄惨',\n",
       " '鼠辈',\n",
       " '艰苦',\n",
       " '挥霍',\n",
       " '游手好闲',\n",
       " '虚名']"
      ]
     },
     "execution_count": 18,
     "metadata": {},
     "output_type": "execute_result"
    }
   ],
   "source": [
    "# 格式转化为列表\n",
    "SES_negative_word_list = df_SES_negative.tolist()\n",
    "SES_negative_word_list"
   ]
  },
  {
   "cell_type": "code",
   "execution_count": 19,
   "metadata": {},
   "outputs": [
    {
     "name": "stdout",
     "output_type": "stream",
     "text": [
      "Skipping 奢糜...\n"
     ]
    }
   ],
   "source": [
    "# 初始化有效种子词列表和相似词列表\n",
    "SES_negative_word_list_effective = []\n",
    "SES_similar_negative_words_list = []\n",
    "\n",
    "# 过滤词向量模型中存在的词并生成相似词\n",
    "for word in SES_negative_word_list:\n",
    "    if word in tencent_embedding:\n",
    "        SES_negative_word_list_effective.append(word)\n",
    "        # 找到与该词最相似的 10 个词\n",
    "        SES_similar_negative_words = tencent_embedding.most_similar(word, topn=10)\n",
    "        # 将相似词加入列表\n",
    "        for similar_negative_word, similarity in SES_similar_negative_words:\n",
    "            SES_similar_negative_words_list.append(similar_negative_word)\n",
    "    else:\n",
    "        print(f\"Skipping {word}...\")"
   ]
  },
  {
   "cell_type": "code",
   "execution_count": 20,
   "metadata": {},
   "outputs": [
    {
     "name": "stdout",
     "output_type": "stream",
     "text": [
      "     Word\n",
      "0      穷的\n",
      "1      穷啊\n",
      "2      穷了\n",
      "3      很穷\n",
      "4      是穷\n",
      "..    ...\n",
      "705    利禄\n",
      "706  功名利禄\n",
      "707    虚衔\n",
      "708  空有虚名\n",
      "709  身外之物\n",
      "\n",
      "[710 rows x 1 columns]\n"
     ]
    }
   ],
   "source": [
    "# 将生成的消极相似词转换为 DataFrame，查看是否生成成功\n",
    "df_SES_similar_negative_words = pd.DataFrame(SES_similar_negative_words_list, columns=['Word'])\n",
    "print(df_SES_similar_negative_words)"
   ]
  },
  {
   "cell_type": "code",
   "execution_count": 22,
   "metadata": {},
   "outputs": [
    {
     "name": "stdout",
     "output_type": "stream",
     "text": [
      "     Word\n",
      "0      骄奢\n",
      "1      底层\n",
      "2      穷酸\n",
      "3     太寒酸\n",
      "4    名声败坏\n",
      "..    ...\n",
      "543    紧巴\n",
      "544  巨额债务\n",
      "545  摇尾乞怜\n",
      "546  被瞧不起\n",
      "547   穷光蛋\n",
      "\n",
      "[548 rows x 1 columns]\n"
     ]
    }
   ],
   "source": [
    "# 将相似词列表转换为集合再转换回列表，以去掉重复出现的词\n",
    "SES_unique_similar_negative_words_list = list(set(SES_similar_negative_words_list))\n",
    "\n",
    "# 将去重后的结果转换为 DataFrame\n",
    "df_SES_unique_similar_negative_words = pd.DataFrame(SES_unique_similar_negative_words_list, columns=['Word'])\n",
    "print(df_SES_unique_similar_negative_words)"
   ]
  },
  {
   "cell_type": "code",
   "execution_count": 23,
   "metadata": {},
   "outputs": [],
   "source": [
    "# 保存去重后的相似词表到excel文件\n",
    "df_SES_unique_similar_negative_words.to_excel(r'result\\SES_unique_negative_similar_words.xlsx', index=False)"
   ]
  }
 ],
 "metadata": {
  "kernelspec": {
   "display_name": "base",
   "language": "python",
   "name": "python3"
  },
  "language_info": {
   "codemirror_mode": {
    "name": "ipython",
    "version": 3
   },
   "file_extension": ".py",
   "mimetype": "text/x-python",
   "name": "python",
   "nbconvert_exporter": "python",
   "pygments_lexer": "ipython3",
   "version": "3.11.5"
  }
 },
 "nbformat": 4,
 "nbformat_minor": 2
}
