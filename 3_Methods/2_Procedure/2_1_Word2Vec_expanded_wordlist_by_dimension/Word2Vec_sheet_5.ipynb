{
 "cells": [
  {
   "cell_type": "code",
   "execution_count": 2,
   "metadata": {},
   "outputs": [],
   "source": [
    "# 导入读取数据所需要的库\n",
    "import numpy as np\n",
    "import pandas as pd\n",
    "from pandas import read_excel\n",
    "\n",
    "import gensim\n",
    "from gensim import models\n",
    "\n",
    "df = read_excel(r'data\\SEV_wordlist.xlsx')"
   ]
  },
  {
   "cell_type": "code",
   "execution_count": 3,
   "metadata": {},
   "outputs": [],
   "source": [
    "# 预训练的词向量语料库文件路径\n",
    "tecent_embedding_path = (r'D:\\embedding_zh\\tencent-ailab-embedding-zh-d200-v0.2.0-s\\tencent-ailab-embedding-zh-d200-v0.2.0-s.txt')\n",
    "\n",
    "# 加载词向量文件\n",
    "tencent_embedding = models.KeyedVectors.load_word2vec_format(tecent_embedding_path, binary=False)"
   ]
  },
  {
   "cell_type": "code",
   "execution_count": 4,
   "metadata": {},
   "outputs": [
    {
     "name": "stdout",
     "output_type": "stream",
     "text": [
      "['App_words', 'SES_words', 'Soc_words', 'Com_words', 'Mor_words']\n"
     ]
    }
   ],
   "source": [
    "# 获取Excel文件中所有表的名称\n",
    "excel_file = pd.ExcelFile(r'data\\SEV_wordlist.xlsx')\n",
    "print(excel_file.sheet_names)"
   ]
  },
  {
   "cell_type": "code",
   "execution_count": 5,
   "metadata": {},
   "outputs": [],
   "source": [
    "# Mor扩展词表\n",
    "\n",
    "df_Mor_words = pd.read_excel(r'data\\SEV_wordlist.xlsx', sheet_name=4) "
   ]
  },
  {
   "cell_type": "code",
   "execution_count": 6,
   "metadata": {},
   "outputs": [],
   "source": [
    "# 求积极词汇的词表\n",
    "df_Mor_positive = df_Mor_words.loc[df_Mor_words['Valence']=='Positive', 'Word']\n",
    "\n",
    "# 格式转化为列表\n",
    "Mor_positive_word_list = df_Mor_positive.tolist()"
   ]
  },
  {
   "cell_type": "code",
   "execution_count": 7,
   "metadata": {},
   "outputs": [
    {
     "name": "stdout",
     "output_type": "stream",
     "text": [
      "Skipping 谦顺...\n",
      "Skipping 恳挚...\n"
     ]
    }
   ],
   "source": [
    "# 初始化有效种子词列表和相似词列表\n",
    "Mor_positive_word_list_effective = []\n",
    "Mor_similar_words_list = []\n",
    "\n",
    "# 过滤词向量模型中存在的词并生成相似词\n",
    "for word in Mor_positive_word_list:\n",
    "    if word in tencent_embedding:\n",
    "        Mor_positive_word_list_effective.append(word)\n",
    "        # 找到与该词最相似的 10 个词\n",
    "        Mor_similar_words = tencent_embedding.most_similar(word, topn=10)\n",
    "        # 将相似词加入列表\n",
    "        for similar_word, similarity in Mor_similar_words:\n",
    "            Mor_similar_words_list.append(similar_word)\n",
    "    else:\n",
    "        print(f\"Skipping {word}...\")"
   ]
  },
  {
   "cell_type": "code",
   "execution_count": 8,
   "metadata": {},
   "outputs": [
    {
     "name": "stdout",
     "output_type": "stream",
     "text": [
      "      Word\n",
      "0       憨直\n",
      "1     绝对公正\n",
      "2     尽量节约\n",
      "3     忠义两全\n",
      "4     菩萨心肠\n",
      "...    ...\n",
      "1311  认真敬业\n",
      "1312     勇\n",
      "1313  自尊自爱\n",
      "1314  言行合一\n",
      "1315  英勇顽强\n",
      "\n",
      "[1316 rows x 1 columns]\n"
     ]
    }
   ],
   "source": [
    "Mor_unique_similar_words_list = list(set(Mor_similar_words_list))\n",
    "\n",
    "df_unique_Mor_similar_words = pd.DataFrame(Mor_unique_similar_words_list, columns=['Word'])\n",
    "print(df_unique_Mor_similar_words)"
   ]
  },
  {
   "cell_type": "code",
   "execution_count": 9,
   "metadata": {},
   "outputs": [],
   "source": [
    "df_unique_Mor_similar_words.to_excel(r'result\\\\Mor_unique_positive_similar_words.xlsx', index=False)"
   ]
  },
  {
   "cell_type": "code",
   "execution_count": 10,
   "metadata": {},
   "outputs": [
    {
     "name": "stdout",
     "output_type": "stream",
     "text": [
      "Skipping 轻诺寡信...\n",
      "Skipping 险诈...\n",
      "Skipping 鼠肚鸡肠...\n",
      "Skipping 耍心眼儿...\n",
      "Skipping 害人虫...\n",
      "Skipping 卑俗...\n"
     ]
    }
   ],
   "source": [
    "# 消极词汇\n",
    "df_Mor_negative = df_Mor_words.loc[df_Mor_words['Valence']=='Negative', 'Word']\n",
    "\n",
    "# 格式转化为列表\n",
    "Mor_negative_word_list = df_Mor_negative.tolist()\n",
    "\n",
    "# 初始化有效种子词列表和相似词列表\n",
    "Mor_negative_word_list_effective = []\n",
    "Mor_similar_negative_words_list = []\n",
    "\n",
    "# 过滤词向量模型中存在的词并生成相似词\n",
    "for word in Mor_negative_word_list:\n",
    "    if word in tencent_embedding:\n",
    "        Mor_negative_word_list_effective.append(word)\n",
    "        # 找到与该词最相似的 10 个词\n",
    "        Mor_similar_negative_words = tencent_embedding.most_similar(word, topn=10)\n",
    "        # 将相似词加入列表\n",
    "        for similar_negative_word, similarity in Mor_similar_negative_words:\n",
    "            Mor_similar_negative_words_list.append(similar_negative_word)\n",
    "    else:\n",
    "        print(f\"Skipping {word}...\")"
   ]
  },
  {
   "cell_type": "code",
   "execution_count": 11,
   "metadata": {},
   "outputs": [
    {
     "name": "stdout",
     "output_type": "stream",
     "text": [
      "          Word\n",
      "0         不顾大局\n",
      "1         滥用民力\n",
      "2        虚荣心作祟\n",
      "3         过于狭隘\n",
      "4           贪鄙\n",
      "...        ...\n",
      "1238      罪恶滔天\n",
      "1239     蛮横不讲理\n",
      "1240        淫虐\n",
      "1241        独断\n",
      "1242  吃着碗里看着锅里\n",
      "\n",
      "[1243 rows x 1 columns]\n"
     ]
    }
   ],
   "source": [
    "# 将相似词列表转换为集合再转换回列表，以去掉重复出现的词\n",
    "Mor_unique_similar_negative_words_list = list(set(Mor_similar_negative_words_list))\n",
    "\n",
    "# 将去重后的结果转换为 DataFrame\n",
    "df_Mor_unique_similar_negative_words = pd.DataFrame(Mor_unique_similar_negative_words_list, columns=['Word'])\n",
    "print(df_Mor_unique_similar_negative_words)"
   ]
  },
  {
   "cell_type": "code",
   "execution_count": 12,
   "metadata": {},
   "outputs": [],
   "source": [
    "# 保存去重后的相似词表到excel文件\n",
    "df_Mor_unique_similar_negative_words.to_excel(r'result\\\\Mor_unique_negative_similar_words.xlsx', index=False)"
   ]
  }
 ],
 "metadata": {
  "kernelspec": {
   "display_name": "base",
   "language": "python",
   "name": "python3"
  },
  "language_info": {
   "codemirror_mode": {
    "name": "ipython",
    "version": 3
   },
   "file_extension": ".py",
   "mimetype": "text/x-python",
   "name": "python",
   "nbconvert_exporter": "python",
   "pygments_lexer": "ipython3",
   "version": "3.11.5"
  }
 },
 "nbformat": 4,
 "nbformat_minor": 2
}
