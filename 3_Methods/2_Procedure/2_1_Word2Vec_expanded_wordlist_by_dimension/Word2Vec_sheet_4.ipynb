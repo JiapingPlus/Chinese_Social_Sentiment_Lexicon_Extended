{
 "cells": [
  {
   "cell_type": "code",
   "execution_count": 2,
   "metadata": {},
   "outputs": [],
   "source": [
    "# 导入读取数据所需要的库\n",
    "import numpy as np\n",
    "import pandas as pd\n",
    "from pandas import read_excel\n",
    "\n",
    "import gensim\n",
    "from gensim import models\n",
    "\n",
    "df = read_excel(r'data\\SEV_wordlist.xlsx')"
   ]
  },
  {
   "cell_type": "code",
   "execution_count": 3,
   "metadata": {},
   "outputs": [],
   "source": [
    "# 预训练的词向量语料库文件路径\n",
    "tecent_embedding_path = (r'D:\\embedding_zh\\tencent-ailab-embedding-zh-d200-v0.2.0-s\\tencent-ailab-embedding-zh-d200-v0.2.0-s.txt')\n",
    "\n",
    "# 加载词向量文件\n",
    "tencent_embedding = models.KeyedVectors.load_word2vec_format(tecent_embedding_path, binary=False)"
   ]
  },
  {
   "cell_type": "code",
   "execution_count": 4,
   "metadata": {},
   "outputs": [
    {
     "name": "stdout",
     "output_type": "stream",
     "text": [
      "['App_words', 'SES_words', 'Soc_words', 'Com_words', 'Mor_words']\n"
     ]
    }
   ],
   "source": [
    "# 获取Excel文件中所有表的名称\n",
    "excel_file = pd.ExcelFile(r'data\\SEV_wordlist.xlsx')\n",
    "print(excel_file.sheet_names)"
   ]
  },
  {
   "cell_type": "code",
   "execution_count": 5,
   "metadata": {},
   "outputs": [],
   "source": [
    "# Com扩展词表\n",
    "\n",
    "df_Com_words = pd.read_excel(r'data\\SEV_wordlist.xlsx', sheet_name=3) "
   ]
  },
  {
   "cell_type": "code",
   "execution_count": 6,
   "metadata": {},
   "outputs": [],
   "source": [
    "# 求积极词汇的词表\n",
    "df_Com_positive = df_Com_words.loc[df_Com_words['Valence']=='Positive', 'Word']\n",
    "\n",
    "# 格式转化为列表\n",
    "Com_positive_word_list = df_Com_positive.tolist()"
   ]
  },
  {
   "cell_type": "code",
   "execution_count": 7,
   "metadata": {},
   "outputs": [
    {
     "name": "stdout",
     "output_type": "stream",
     "text": [
      "Skipping 干才...\n",
      "Skipping 聪悟...\n",
      "Skipping 有谱儿...\n",
      "Skipping 言必有中...\n",
      "Skipping 骁悍...\n"
     ]
    }
   ],
   "source": [
    "# 初始化有效种子词列表和相似词列表\n",
    "Com_positive_word_list_effective = []\n",
    "Com_similar_words_list = []\n",
    "\n",
    "# 过滤词向量模型中存在的词并生成相似词\n",
    "for word in Com_positive_word_list:\n",
    "    if word in tencent_embedding:\n",
    "        Com_positive_word_list_effective.append(word)\n",
    "        # 找到与该词最相似的 10 个词\n",
    "        Com_similar_words = tencent_embedding.most_similar(word, topn=10)\n",
    "        # 将相似词加入列表\n",
    "        for similar_word, similarity in Com_similar_words:\n",
    "            Com_similar_words_list.append(similar_word)\n",
    "    else:\n",
    "        print(f\"Skipping {word}...\")"
   ]
  },
  {
   "cell_type": "code",
   "execution_count": 8,
   "metadata": {},
   "outputs": [
    {
     "name": "stdout",
     "output_type": "stream",
     "text": [
      "         Word\n",
      "0        辛勤汗水\n",
      "1     持之以恒的毅力\n",
      "2          精妙\n",
      "3        坚忍不拔\n",
      "4         双巧手\n",
      "...       ...\n",
      "1679       急智\n",
      "1680       冷肃\n",
      "1681    按部就班地\n",
      "1682      很镇定\n",
      "1683       不笨\n",
      "\n",
      "[1684 rows x 1 columns]\n"
     ]
    }
   ],
   "source": [
    "Com_unique_similar_words_list = list(set(Com_similar_words_list))\n",
    "\n",
    "df_unique_Com_similar_words = pd.DataFrame(Com_unique_similar_words_list, columns=['Word'])\n",
    "print(df_unique_Com_similar_words)"
   ]
  },
  {
   "cell_type": "code",
   "execution_count": 9,
   "metadata": {},
   "outputs": [],
   "source": [
    "df_unique_Com_similar_words.to_excel(r'result\\\\Com_unique_positive_similar_words.xlsx', index=False)"
   ]
  },
  {
   "cell_type": "code",
   "execution_count": 10,
   "metadata": {},
   "outputs": [
    {
     "name": "stdout",
     "output_type": "stream",
     "text": [
      "Skipping 粗手笨脚...\n",
      "Skipping 蠢头蠢脑...\n",
      "Skipping 羽毛未丰...\n",
      "Skipping 别无长物...\n",
      "Skipping 迂拙...\n"
     ]
    }
   ],
   "source": [
    "# 消极词汇\n",
    "df_Com_negative = df_Com_words.loc[df_Com_words['Valence']=='Negative', 'Word']\n",
    "\n",
    "# 格式转化为列表\n",
    "Com_negative_word_list = df_Com_negative.tolist()\n",
    "\n",
    "# 初始化有效种子词列表和相似词列表\n",
    "Com_negative_word_list_effective = []\n",
    "Com_similar_negative_words_list = []\n",
    "\n",
    "# 过滤词向量模型中存在的词并生成相似词\n",
    "for word in Com_negative_word_list:\n",
    "    if word in tencent_embedding:\n",
    "        Com_negative_word_list_effective.append(word)\n",
    "        # 找到与该词最相似的 10 个词\n",
    "        Com_similar_negative_words = tencent_embedding.most_similar(word, topn=10)\n",
    "        # 将相似词加入列表\n",
    "        for similar_negative_word, similarity in Com_similar_negative_words:\n",
    "            Com_similar_negative_words_list.append(similar_negative_word)\n",
    "    else:\n",
    "        print(f\"Skipping {word}...\")"
   ]
  },
  {
   "cell_type": "code",
   "execution_count": 11,
   "metadata": {},
   "outputs": [
    {
     "name": "stdout",
     "output_type": "stream",
     "text": [
      "     Word\n",
      "0    百无一用\n",
      "1    一无可取\n",
      "2     花架子\n",
      "3    害怕困难\n",
      "4      低智\n",
      "..    ...\n",
      "592  不知死活\n",
      "593  不是内行\n",
      "594  有实无名\n",
      "595    专断\n",
      "596    行家\n",
      "\n",
      "[597 rows x 1 columns]\n"
     ]
    }
   ],
   "source": [
    "# 将相似词列表转换为集合再转换回列表，以去掉重复出现的词\n",
    "Com_unique_similar_negative_words_list = list(set(Com_similar_negative_words_list))\n",
    "\n",
    "# 将去重后的结果转换为 DataFrame\n",
    "df_Com_unique_similar_negative_words = pd.DataFrame(Com_unique_similar_negative_words_list, columns=['Word'])\n",
    "print(df_Com_unique_similar_negative_words)"
   ]
  },
  {
   "cell_type": "code",
   "execution_count": 12,
   "metadata": {},
   "outputs": [],
   "source": [
    "# 保存去重后的相似词表到excel文件\n",
    "df_Com_unique_similar_negative_words.to_excel(r'result\\\\Com_unique_negative_similar_words.xlsx', index=False)"
   ]
  }
 ],
 "metadata": {
  "kernelspec": {
   "display_name": "base",
   "language": "python",
   "name": "python3"
  },
  "language_info": {
   "codemirror_mode": {
    "name": "ipython",
    "version": 3
   },
   "file_extension": ".py",
   "mimetype": "text/x-python",
   "name": "python",
   "nbconvert_exporter": "python",
   "pygments_lexer": "ipython3",
   "version": "3.11.5"
  }
 },
 "nbformat": 4,
 "nbformat_minor": 2
}
