{
 "cells": [
  {
   "cell_type": "code",
   "execution_count": 1,
   "metadata": {},
   "outputs": [],
   "source": [
    "# 导入读取数据所需要的库\n",
    "import numpy as np\n",
    "import pandas as pd\n",
    "from pandas import read_excel\n",
    "\n",
    "df = read_excel(r'data\\SEV_wordlist.xlsx')"
   ]
  },
  {
   "cell_type": "code",
   "execution_count": 2,
   "metadata": {},
   "outputs": [],
   "source": [
    "import gensim\n",
    "from gensim import models"
   ]
  },
  {
   "cell_type": "code",
   "execution_count": 3,
   "metadata": {},
   "outputs": [
    {
     "name": "stdout",
     "output_type": "stream",
     "text": [
      "['App_words', 'SES_words', 'Soc_words', 'Com_words', 'Mor_words']\n"
     ]
    }
   ],
   "source": [
    "# 获取Excel文件中所有表的名称\n",
    "excel_file = pd.ExcelFile(r'data\\SEV_wordlist.xlsx')\n",
    "print(excel_file.sheet_names)  # 显示所有表的名称"
   ]
  },
  {
   "cell_type": "code",
   "execution_count": 4,
   "metadata": {},
   "outputs": [],
   "source": [
    "# 预训练的词向量语料库文件路径\n",
    "tecent_embedding_path = (r'D:\\embedding_zh\\tencent-ailab-embedding-zh-d200-v0.2.0-s\\tencent-ailab-embedding-zh-d200-v0.2.0-s.txt')\n",
    "\n",
    "# 加载词向量文件\n",
    "tencent_embedding = models.KeyedVectors.load_word2vec_format(tecent_embedding_path, binary=False)"
   ]
  },
  {
   "cell_type": "code",
   "execution_count": 6,
   "metadata": {},
   "outputs": [
    {
     "data": {
      "text/html": [
       "<div>\n",
       "<style scoped>\n",
       "    .dataframe tbody tr th:only-of-type {\n",
       "        vertical-align: middle;\n",
       "    }\n",
       "\n",
       "    .dataframe tbody tr th {\n",
       "        vertical-align: top;\n",
       "    }\n",
       "\n",
       "    .dataframe thead th {\n",
       "        text-align: right;\n",
       "    }\n",
       "</style>\n",
       "<table border=\"1\" class=\"dataframe\">\n",
       "  <thead>\n",
       "    <tr style=\"text-align: right;\">\n",
       "      <th></th>\n",
       "      <th>Word</th>\n",
       "      <th>Dimension</th>\n",
       "      <th>Soc_Dim_mean</th>\n",
       "      <th>Soc_Dim_sd</th>\n",
       "      <th>App_Dim_mean</th>\n",
       "      <th>App_Dim_sd</th>\n",
       "      <th>SES_Dim_mean</th>\n",
       "      <th>SES_Dim_sd</th>\n",
       "      <th>Com_Dim_mean</th>\n",
       "      <th>Com_Dim_sd</th>\n",
       "      <th>...</th>\n",
       "      <th>Val_sd</th>\n",
       "      <th>Valence</th>\n",
       "      <th>N_raters</th>\n",
       "      <th>N_App</th>\n",
       "      <th>N_SES</th>\n",
       "      <th>N_Soc</th>\n",
       "      <th>N_Com</th>\n",
       "      <th>N_Mor</th>\n",
       "      <th>N_Non</th>\n",
       "      <th>N_Amb</th>\n",
       "    </tr>\n",
       "  </thead>\n",
       "  <tbody>\n",
       "    <tr>\n",
       "      <th>0</th>\n",
       "      <td>交际花</td>\n",
       "      <td>Sociability</td>\n",
       "      <td>8.019</td>\n",
       "      <td>1.829</td>\n",
       "      <td>4.220096</td>\n",
       "      <td>2.862116</td>\n",
       "      <td>4.928230</td>\n",
       "      <td>2.740301</td>\n",
       "      <td>5.239234</td>\n",
       "      <td>2.922096</td>\n",
       "      <td>...</td>\n",
       "      <td>1.816</td>\n",
       "      <td>Positive</td>\n",
       "      <td>209</td>\n",
       "      <td>8</td>\n",
       "      <td>5</td>\n",
       "      <td>108</td>\n",
       "      <td>6</td>\n",
       "      <td>1</td>\n",
       "      <td>9</td>\n",
       "      <td>72</td>\n",
       "    </tr>\n",
       "    <tr>\n",
       "      <th>1</th>\n",
       "      <td>合群</td>\n",
       "      <td>Sociability</td>\n",
       "      <td>7.493</td>\n",
       "      <td>2.215</td>\n",
       "      <td>2.251185</td>\n",
       "      <td>1.926862</td>\n",
       "      <td>3.322275</td>\n",
       "      <td>2.520474</td>\n",
       "      <td>4.421801</td>\n",
       "      <td>2.838057</td>\n",
       "      <td>...</td>\n",
       "      <td>1.370</td>\n",
       "      <td>Positive</td>\n",
       "      <td>211</td>\n",
       "      <td>3</td>\n",
       "      <td>4</td>\n",
       "      <td>145</td>\n",
       "      <td>16</td>\n",
       "      <td>2</td>\n",
       "      <td>14</td>\n",
       "      <td>27</td>\n",
       "    </tr>\n",
       "    <tr>\n",
       "      <th>2</th>\n",
       "      <td>能说会道</td>\n",
       "      <td>Sociability</td>\n",
       "      <td>7.456</td>\n",
       "      <td>2.111</td>\n",
       "      <td>2.641860</td>\n",
       "      <td>2.165385</td>\n",
       "      <td>3.279070</td>\n",
       "      <td>2.425773</td>\n",
       "      <td>6.660465</td>\n",
       "      <td>2.579768</td>\n",
       "      <td>...</td>\n",
       "      <td>1.530</td>\n",
       "      <td>Positive</td>\n",
       "      <td>215</td>\n",
       "      <td>4</td>\n",
       "      <td>0</td>\n",
       "      <td>81</td>\n",
       "      <td>41</td>\n",
       "      <td>5</td>\n",
       "      <td>9</td>\n",
       "      <td>75</td>\n",
       "    </tr>\n",
       "    <tr>\n",
       "      <th>3</th>\n",
       "      <td>左右逢源</td>\n",
       "      <td>Sociability</td>\n",
       "      <td>7.223</td>\n",
       "      <td>2.405</td>\n",
       "      <td>2.125581</td>\n",
       "      <td>1.758304</td>\n",
       "      <td>4.469767</td>\n",
       "      <td>2.733962</td>\n",
       "      <td>5.558140</td>\n",
       "      <td>2.952128</td>\n",
       "      <td>...</td>\n",
       "      <td>1.903</td>\n",
       "      <td>Positive</td>\n",
       "      <td>215</td>\n",
       "      <td>0</td>\n",
       "      <td>10</td>\n",
       "      <td>90</td>\n",
       "      <td>19</td>\n",
       "      <td>7</td>\n",
       "      <td>19</td>\n",
       "      <td>70</td>\n",
       "    </tr>\n",
       "    <tr>\n",
       "      <th>4</th>\n",
       "      <td>外向</td>\n",
       "      <td>Sociability</td>\n",
       "      <td>7.223</td>\n",
       "      <td>2.343</td>\n",
       "      <td>3.497674</td>\n",
       "      <td>2.624248</td>\n",
       "      <td>2.604651</td>\n",
       "      <td>2.132739</td>\n",
       "      <td>3.702326</td>\n",
       "      <td>2.585861</td>\n",
       "      <td>...</td>\n",
       "      <td>1.460</td>\n",
       "      <td>Positive</td>\n",
       "      <td>215</td>\n",
       "      <td>10</td>\n",
       "      <td>3</td>\n",
       "      <td>136</td>\n",
       "      <td>7</td>\n",
       "      <td>6</td>\n",
       "      <td>21</td>\n",
       "      <td>32</td>\n",
       "    </tr>\n",
       "  </tbody>\n",
       "</table>\n",
       "<p>5 rows × 23 columns</p>\n",
       "</div>"
      ],
      "text/plain": [
       "   Word    Dimension  Soc_Dim_mean  Soc_Dim_sd  App_Dim_mean  App_Dim_sd  \\\n",
       "0   交际花  Sociability         8.019       1.829      4.220096    2.862116   \n",
       "1    合群  Sociability         7.493       2.215      2.251185    1.926862   \n",
       "2  能说会道  Sociability         7.456       2.111      2.641860    2.165385   \n",
       "3  左右逢源  Sociability         7.223       2.405      2.125581    1.758304   \n",
       "4    外向  Sociability         7.223       2.343      3.497674    2.624248   \n",
       "\n",
       "   SES_Dim_mean  SES_Dim_sd  Com_Dim_mean  Com_Dim_sd  ...  Val_sd   Valence  \\\n",
       "0      4.928230    2.740301      5.239234    2.922096  ...   1.816  Positive   \n",
       "1      3.322275    2.520474      4.421801    2.838057  ...   1.370  Positive   \n",
       "2      3.279070    2.425773      6.660465    2.579768  ...   1.530  Positive   \n",
       "3      4.469767    2.733962      5.558140    2.952128  ...   1.903  Positive   \n",
       "4      2.604651    2.132739      3.702326    2.585861  ...   1.460  Positive   \n",
       "\n",
       "   N_raters  N_App N_SES  N_Soc  N_Com  N_Mor  N_Non  N_Amb  \n",
       "0       209      8     5    108      6      1      9     72  \n",
       "1       211      3     4    145     16      2     14     27  \n",
       "2       215      4     0     81     41      5      9     75  \n",
       "3       215      0    10     90     19      7     19     70  \n",
       "4       215     10     3    136      7      6     21     32  \n",
       "\n",
       "[5 rows x 23 columns]"
      ]
     },
     "execution_count": 6,
     "metadata": {},
     "output_type": "execute_result"
    }
   ],
   "source": [
    "# Soc扩展词表\n",
    "\n",
    "df_Soc_words = pd.read_excel(r'data\\SEV_wordlist.xlsx', sheet_name=2)  # 表的索引从0开始，1表示第二张表\n",
    "\n",
    "# 查看数据的形状\n",
    "df_Soc_words.shape\n",
    "\n",
    "# 预览数据\n",
    "df_Soc_words.head()"
   ]
  },
  {
   "cell_type": "code",
   "execution_count": 7,
   "metadata": {},
   "outputs": [
    {
     "data": {
      "text/plain": [
       "0     交际花\n",
       "1      合群\n",
       "2    能说会道\n",
       "3    左右逢源\n",
       "4      外向\n",
       "Name: Word, dtype: object"
      ]
     },
     "execution_count": 7,
     "metadata": {},
     "output_type": "execute_result"
    }
   ],
   "source": [
    "# 求积极词汇的词表\n",
    "df_Soc_positive = df_Soc_words.loc[df_Soc_words['Valence']=='Positive', 'Word']\n",
    "df_Soc_positive.head()"
   ]
  },
  {
   "cell_type": "code",
   "execution_count": 8,
   "metadata": {},
   "outputs": [
    {
     "data": {
      "text/plain": [
       "['交际花',\n",
       " '合群',\n",
       " '能说会道',\n",
       " '左右逢源',\n",
       " '外向',\n",
       " '吃得开',\n",
       " '健谈',\n",
       " '热情',\n",
       " '平易近人',\n",
       " '察言观色',\n",
       " '好客',\n",
       " '随和',\n",
       " '主动',\n",
       " '好说话',\n",
       " '活跃',\n",
       " '幽默',\n",
       " '眼力见儿',\n",
       " '世故',\n",
       " '伶牙俐齿',\n",
       " '直爽',\n",
       " '风趣',\n",
       " '爽快',\n",
       " '豪爽',\n",
       " '活泼',\n",
       " '开放',\n",
       " '亲切',\n",
       " '爽朗',\n",
       " '够意思',\n",
       " '投其所好',\n",
       " '有趣',\n",
       " '心直口快',\n",
       " '率直',\n",
       " '合作',\n",
       " '爽直',\n",
       " '从容',\n",
       " '热诚',\n",
       " '直性子',\n",
       " '大大咧咧',\n",
       " '和气',\n",
       " '直率',\n",
       " '识相',\n",
       " '识趣',\n",
       " '直肠子',\n",
       " '客气',\n",
       " '鬼灵精',\n",
       " '高谈阔论',\n",
       " '直心眼儿',\n",
       " '贴心',\n",
       " '开朗',\n",
       " '不拘小节',\n",
       " '走心',\n",
       " '率然',\n",
       " '亲近',\n",
       " '害羞',\n",
       " '直性',\n",
       " '外圆内方',\n",
       " '诙谐',\n",
       " '暖男',\n",
       " '体贴',\n",
       " '豪放',\n",
       " '知趣',\n",
       " '率性',\n",
       " '和顺',\n",
       " '通透']"
      ]
     },
     "execution_count": 8,
     "metadata": {},
     "output_type": "execute_result"
    }
   ],
   "source": [
    "# 格式转化为列表\n",
    "Soc_positive_word_list = df_Soc_positive.tolist()\n",
    "Soc_positive_word_list"
   ]
  },
  {
   "cell_type": "code",
   "execution_count": 9,
   "metadata": {},
   "outputs": [
    {
     "name": "stdout",
     "output_type": "stream",
     "text": [
      "Skipping 直心眼儿...\n",
      "Skipping 率然...\n"
     ]
    }
   ],
   "source": [
    "# 初始化有效种子词列表和相似词列表\n",
    "Soc_positive_word_list_effective = []\n",
    "Soc_similar_words_list = []\n",
    "\n",
    "# 过滤词向量模型中存在的词并生成相似词\n",
    "for word in Soc_positive_word_list:\n",
    "    if word in tencent_embedding:\n",
    "        Soc_positive_word_list_effective.append(word)\n",
    "        # 找到与该词最相似的 10 个词\n",
    "        Soc_similar_words = tencent_embedding.most_similar(word, topn=10)\n",
    "        # 将相似词加入列表\n",
    "        for similar_word, similarity in Soc_similar_words:\n",
    "            Soc_similar_words_list.append(similar_word)\n",
    "    else:\n",
    "        print(f\"Skipping {word}...\")"
   ]
  },
  {
   "cell_type": "code",
   "execution_count": 11,
   "metadata": {},
   "outputs": [],
   "source": [
    "Soc_unique_similar_words_list = list(set(Soc_similar_words_list))"
   ]
  },
  {
   "cell_type": "code",
   "execution_count": 12,
   "metadata": {},
   "outputs": [
    {
     "name": "stdout",
     "output_type": "stream",
     "text": [
      "     Word\n",
      "0    随性不羁\n",
      "1    不会主动\n",
      "2    咋咋呼呼\n",
      "3    性格直爽\n",
      "4    嘻嘻哈哈\n",
      "..    ...\n",
      "501   不识相\n",
      "502  舌灿莲花\n",
      "503  十分活跃\n",
      "504   好男友\n",
      "505  豪迈不羁\n",
      "\n",
      "[506 rows x 1 columns]\n"
     ]
    }
   ],
   "source": [
    "df_unique_Soc_similar_words = pd.DataFrame(Soc_unique_similar_words_list, columns=['Word'])\n",
    "print(df_unique_Soc_similar_words)"
   ]
  },
  {
   "cell_type": "code",
   "execution_count": 13,
   "metadata": {},
   "outputs": [],
   "source": [
    "df_unique_Soc_similar_words.to_excel(r'result\\Soc_unique_positive_similar_words.xlsx', index=False)"
   ]
  },
  {
   "cell_type": "code",
   "execution_count": 14,
   "metadata": {},
   "outputs": [
    {
     "data": {
      "text/plain": [
       "64      圆滑\n",
       "65      内向\n",
       "66    笨嘴拙舌\n",
       "67      油滑\n",
       "68    老于世故\n",
       "Name: Word, dtype: object"
      ]
     },
     "execution_count": 14,
     "metadata": {},
     "output_type": "execute_result"
    }
   ],
   "source": [
    "# 消极词汇\n",
    "df_Soc_negative = df_Soc_words.loc[df_Soc_words['Valence']=='Negative', 'Word']\n",
    "df_Soc_negative.head()"
   ]
  },
  {
   "cell_type": "code",
   "execution_count": 15,
   "metadata": {},
   "outputs": [
    {
     "name": "stdout",
     "output_type": "stream",
     "text": [
      "Skipping 笨口拙舌...\n",
      "Skipping 贫嘴薄舌...\n",
      "Skipping 狐朋狗党...\n"
     ]
    }
   ],
   "source": [
    "# 格式转化为列表\n",
    "Soc_negative_word_list = df_Soc_negative.tolist()\n",
    "\n",
    "# 初始化有效种子词列表和相似词列表\n",
    "Soc_negative_word_list_effective = []\n",
    "Soc_similar_negative_words_list = []\n",
    "\n",
    "# 过滤词向量模型中存在的词并生成相似词\n",
    "for word in Soc_negative_word_list:\n",
    "    if word in tencent_embedding:\n",
    "        Soc_negative_word_list_effective.append(word)\n",
    "        # 找到与该词最相似的 10 个词\n",
    "        Soc_similar_negative_words = tencent_embedding.most_similar(word, topn=10)\n",
    "        # 将相似词加入列表\n",
    "        for similar_negative_word, similarity in Soc_similar_negative_words:\n",
    "            Soc_similar_negative_words_list.append(similar_negative_word)\n",
    "    else:\n",
    "        print(f\"Skipping {word}...\")"
   ]
  },
  {
   "cell_type": "code",
   "execution_count": 16,
   "metadata": {},
   "outputs": [
    {
     "name": "stdout",
     "output_type": "stream",
     "text": [
      "     Word\n",
      "0    畏畏缩缩\n",
      "1    讨好巴结\n",
      "2      畏怯\n",
      "3     讨人厌\n",
      "4    略显孤单\n",
      "..    ...\n",
      "344    逢迎\n",
      "345  舌灿莲花\n",
      "346    嘴笨\n",
      "347   惹人烦\n",
      "348    呆板\n",
      "\n",
      "[349 rows x 1 columns]\n"
     ]
    }
   ],
   "source": [
    "# 将相似词列表转换为集合再转换回列表，以去掉重复出现的词\n",
    "Soc_unique_similar_negative_words_list = list(set(Soc_similar_negative_words_list))\n",
    "\n",
    "# 将去重后的结果转换为 DataFrame\n",
    "df_Soc_unique_similar_negative_words = pd.DataFrame(Soc_unique_similar_negative_words_list, columns=['Word'])\n",
    "print(df_Soc_unique_similar_negative_words)"
   ]
  },
  {
   "cell_type": "code",
   "execution_count": 17,
   "metadata": {},
   "outputs": [],
   "source": [
    "# 保存去重后的相似词表到excel文件\n",
    "df_Soc_unique_similar_negative_words.to_excel(r'result\\Soc_unique_negative_similar_words.xlsx', index=False)"
   ]
  }
 ],
 "metadata": {
  "kernelspec": {
   "display_name": "base",
   "language": "python",
   "name": "python3"
  },
  "language_info": {
   "codemirror_mode": {
    "name": "ipython",
    "version": 3
   },
   "file_extension": ".py",
   "mimetype": "text/x-python",
   "name": "python",
   "nbconvert_exporter": "python",
   "pygments_lexer": "ipython3",
   "version": "3.11.5"
  }
 },
 "nbformat": 4,
 "nbformat_minor": 2
}
